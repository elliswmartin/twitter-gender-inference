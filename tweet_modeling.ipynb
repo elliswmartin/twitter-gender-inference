{
 "cells": [
  {
   "cell_type": "markdown",
   "id": "e6b892d2",
   "metadata": {},
   "source": [
    "## Import Libraries & Data "
   ]
  },
  {
   "cell_type": "code",
   "execution_count": 1,
   "id": "c9a5c93f",
   "metadata": {},
   "outputs": [
    {
     "name": "stdout",
     "output_type": "stream",
     "text": [
      "Exception reporting mode: Minimal\n"
     ]
    }
   ],
   "source": [
    "import re\n",
    "import pandas as pd\n",
    "import numpy as np\n",
    "import sklearn\n",
    "import matplotlib\n",
    "import matplotlib.pyplot as plt\n",
    "from sklearn import linear_model as lm\n",
    "from sklearn.model_selection import train_test_split\n",
    "import seaborn as sns\n",
    "%xmode minimal\n",
    "\n",
    "# import data into dataframes\n",
    "gen_none = pd.read_csv('data/gen_none.csv')\n",
    "gen_low = pd.read_csv('data/gen_low.csv') #, encoding='ISO-8859-1')\n",
    "gen_high = pd.read_csv('data/gen_high.csv')\n",
    "\n",
    "# define RSME function \n",
    "def rmse(predicted, actual):\n",
    "    return np.sqrt(np.mean((actual - predicted)**2))"
   ]
  },
  {
   "cell_type": "markdown",
   "id": "12ce9a6b",
   "metadata": {},
   "source": [
    "## Data Cleaning"
   ]
  },
  {
   "cell_type": "code",
   "execution_count": 2,
   "id": "14e4da6a",
   "metadata": {},
   "outputs": [],
   "source": [
    "# drop name columns\n",
    "gen_none.drop(columns=[\"name\"]);\n",
    "gen_low.drop(columns=[\"name\"]);\n",
    "gen_high.drop(columns=[\"name\"]);\n",
    "\n",
    "gen_none[\"sidebar_color\"] = gen_none[\"sidebar_color\"].astype(str)\n",
    "\n",
    "# convert hex code colors to base 10 values\n",
    "gen_none.loc[gen_none[\"sidebar_color\"].str.contains(\"\\+\", regex=True), \"sidebar_color\"] = \"0\"\n",
    "gen_none.loc[gen_none[\"sidebar_color\"].str.count(\"\\w\") != 6, \"sidebar_color\"] = \"0\"\n",
    "gen_none[\"sidebar_color\"] = gen_none[\"sidebar_color\"].astype(str).apply(int, base=16)\n",
    "\n",
    "# convert color bins to numeric values\n",
    "gen_low.loc[gen_low[\"sidebar_color\"] == \"other\", \"sidebar_color\"] = 0\n",
    "gen_low.loc[gen_low[\"sidebar_color\"] == \"blue\", \"sidebar_color\"] = 1\n",
    "gen_low.loc[gen_low[\"sidebar_color\"] == \"white\", \"sidebar_color\"] = 2\n",
    "\n",
    "# convert color bins to numeric values\n",
    "gen_high.loc[gen_high[\"sidebar_color\"] == \"other\", \"sidebar_color\"] = 0\n",
    "gen_high.loc[gen_high[\"sidebar_color\"] == \"blue\", \"sidebar_color\"] = 1"
   ]
  },
  {
   "cell_type": "markdown",
   "id": "2d2ab15f",
   "metadata": {},
   "source": [
    "# Low Generalization"
   ]
  },
  {
   "cell_type": "code",
   "execution_count": 4,
   "id": "f3c659a7",
   "metadata": {},
   "outputs": [],
   "source": [
    "# train model \n",
    "train, test = train_test_split(gen_low, train_size=0.8)\n",
    "linear_model = lm.LinearRegression(fit_intercept=True)\n",
    "X_train = train[[\"description\", \"fav_number\", \"tweet_count\", \"sidebar_color\"]] \n",
    "y_train = train[\"gender\"]\n",
    "\n",
    "X_test = test[[\"description\", \"fav_number\", \"tweet_count\", \"sidebar_color\"]] \n",
    "y_test = test[\"gender\"]"
   ]
  },
  {
   "cell_type": "code",
   "execution_count": 5,
   "id": "26f83c6d",
   "metadata": {},
   "outputs": [],
   "source": [
    "# fit model \n",
    "linear_model.fit(X_train, y_train)\n",
    "y_fitted = linear_model.predict(X_train)\n",
    "y_predicted = linear_model.predict(X_test)"
   ]
  },
  {
   "cell_type": "code",
   "execution_count": 6,
   "id": "c581a64f",
   "metadata": {},
   "outputs": [],
   "source": [
    "# training and validation errors for model\n",
    "training_error = rmse(y_fitted, y_train)\n",
    "validation_error = rmse(y_predicted, y_test)\n",
    "\n",
    "theta0 = linear_model.intercept_\n",
    "theta1, theta2, theta3, theta4 = linear_model.coef_"
   ]
  },
  {
   "cell_type": "markdown",
   "id": "49970ad1",
   "metadata": {},
   "source": [
    "### Results:"
   ]
  },
  {
   "cell_type": "code",
   "execution_count": 7,
   "id": "fc3c8929",
   "metadata": {},
   "outputs": [
    {
     "name": "stdout",
     "output_type": "stream",
     "text": [
      "Low Gen Model\n",
      "Training RMSE: 0.49338750598881753\n",
      "Validation RMSE: 0.49308401640992805\n",
      "\n",
      "Low Gen Model\n",
      "θ_0: 0.5567898017983609\n",
      "θ_1: -0.05647142249573999\n",
      "θ_2: 0.04366222676906856\n",
      "θ_3: -0.005105898881336057\n",
      "θ_4: -0.010940951667887455\n"
     ]
    }
   ],
   "source": [
    "print(\"Low Gen Model\\nTraining RMSE: {}\\nValidation RMSE: {}\\n\".format(training_error, validation_error))\n",
    "print(\"Low Gen Model\\nθ_0: {}\\nθ_1: {}\\nθ_2: {}\\nθ_3: {}\\nθ_4: {}\".format(theta0, theta1, theta2, theta3, theta4))"
   ]
  },
  {
   "cell_type": "markdown",
   "id": "1f4eae61",
   "metadata": {},
   "source": [
    "# High Generalization"
   ]
  },
  {
   "cell_type": "code",
   "execution_count": 8,
   "id": "6831362c",
   "metadata": {},
   "outputs": [],
   "source": [
    "# train model \n",
    "train2, test2 = train_test_split(gen_high, train_size=0.8)\n",
    "linear_model2 = lm.LinearRegression(fit_intercept=True)\n",
    "X_train2 = train2[[\"description\", \"fav_number\", \"tweet_count\", \"sidebar_color\"]] \n",
    "y_train2 = train2[\"gender\"]\n",
    "\n",
    "X_test2 = test2[[\"description\", \"fav_number\", \"tweet_count\", \"sidebar_color\"]] \n",
    "y_test2 = test2[\"gender\"]"
   ]
  },
  {
   "cell_type": "code",
   "execution_count": 9,
   "id": "5bf48055",
   "metadata": {},
   "outputs": [],
   "source": [
    "# fit model \n",
    "linear_model2.fit(X_train2, y_train2)\n",
    "y_fitted2 = linear_model2.predict(X_train2)\n",
    "y_predicted2 = linear_model2.predict(X_test2)"
   ]
  },
  {
   "cell_type": "code",
   "execution_count": 10,
   "id": "61a2239e",
   "metadata": {},
   "outputs": [],
   "source": [
    "# training and validation errors for model\n",
    "training_error2 = rmse(y_fitted2, y_train2)\n",
    "validation_error2 = rmse(y_predicted2, y_test2)\n",
    "\n",
    "theta2_0 = linear_model2.intercept_\n",
    "theta2_1, theta2_2, theta2_3, theta2_4 = linear_model2.coef_"
   ]
  },
  {
   "cell_type": "markdown",
   "id": "3143b493",
   "metadata": {},
   "source": [
    "### Results:"
   ]
  },
  {
   "cell_type": "code",
   "execution_count": 11,
   "id": "d687c464",
   "metadata": {},
   "outputs": [
    {
     "name": "stdout",
     "output_type": "stream",
     "text": [
      "High Gen Model\n",
      "Training RMSE: 0.4917101180253689\n",
      "Validation RMSE: 0.49546313842886863\n",
      "\n",
      "High Gen Model\n",
      "θ_0: 0.5865798521756029\n",
      "θ_1: -0.1331294795167198\n",
      "θ_2: 0.09024443971092089\n",
      "θ_3: -0.0258923332622665\n",
      "θ_4: -0.08003208729472291\n"
     ]
    }
   ],
   "source": [
    "print(\"High Gen Model\\nTraining RMSE: {}\\nValidation RMSE: {}\\n\".format(training_error2, validation_error2))\n",
    "print(\"High Gen Model\\nθ_0: {}\\nθ_1: {}\\nθ_2: {}\\nθ_3: {}\\nθ_4: {}\".format(theta2_0, theta2_1, theta2_2, theta2_3, theta2_4))"
   ]
  },
  {
   "cell_type": "markdown",
   "id": "06a8c90a",
   "metadata": {},
   "source": [
    "# No Generalization"
   ]
  },
  {
   "cell_type": "code",
   "execution_count": 12,
   "id": "3f8d998a",
   "metadata": {},
   "outputs": [],
   "source": [
    "# train model \n",
    "train3, test3 = train_test_split(gen_none, train_size=0.8)\n",
    "linear_model3 = lm.LinearRegression(fit_intercept=True)\n",
    "X_train3 = train3[[\"description\", \"fav_number\", \"tweet_count\", \"sidebar_color\"]] \n",
    "y_train3 = train3[\"gender\"]\n",
    "\n",
    "X_test3 = test3[[\"description\", \"fav_number\", \"tweet_count\", \"sidebar_color\"]] \n",
    "y_test3 = test3[\"gender\"]"
   ]
  },
  {
   "cell_type": "code",
   "execution_count": 13,
   "id": "5890099f",
   "metadata": {},
   "outputs": [],
   "source": [
    "# fit model \n",
    "linear_model3.fit(X_train3, y_train3)\n",
    "y_fitted3 = linear_model3.predict(X_train3)\n",
    "y_predicted3 = linear_model3.predict(X_test3)"
   ]
  },
  {
   "cell_type": "code",
   "execution_count": 14,
   "id": "6cdd033c",
   "metadata": {},
   "outputs": [],
   "source": [
    "# training and validation errors for model\n",
    "training_error3 = rmse(y_fitted3, y_train3)\n",
    "validation_error3 = rmse(y_predicted3, y_test3)\n",
    "\n",
    "theta3_0 = linear_model3.intercept_\n",
    "theta3_1, theta3_2, theta3_3, theta3_4 = linear_model3.coef_"
   ]
  },
  {
   "cell_type": "code",
   "execution_count": 17,
   "id": "cb21f277",
   "metadata": {},
   "outputs": [
    {
     "name": "stdout",
     "output_type": "stream",
     "text": [
      "No Gen Model\n",
      "Training RMSE: 0.49504904624997764\n",
      "Validation RMSE: 0.49568135870372076\n",
      "\n",
      "No Gen Model\n",
      "θ_0: 0.6037707577173775\n",
      "θ_1: -0.0011196104347496786\n",
      "θ_2: 2.174453038679891e-06\n",
      "θ_3: -2.2060094430893572e-07\n",
      "θ_4: -1.0152486442641776e-09\n"
     ]
    }
   ],
   "source": [
    "print(\"No Gen Model\\nTraining RMSE: {}\\nValidation RMSE: {}\\n\".format(training_error3, validation_error3))\n",
    "print(\"No Gen Model\\nθ_0: {}\\nθ_1: {}\\nθ_2: {}\\nθ_3: {}\\nθ_4: {}\".format(theta3_0, theta3_1, theta3_2, theta3_3, theta3_4))"
   ]
  },
  {
   "cell_type": "code",
   "execution_count": 16,
   "id": "0db82333",
   "metadata": {},
   "outputs": [
    {
     "name": "stdout",
     "output_type": "stream",
     "text": [
      "No Gen Model\n",
      "Training RMSE: 0.49504904624997764\n",
      "Validation RMSE: 0.49568135870372076\n",
      "\n",
      "Low Gen Model\n",
      "Training RMSE: 0.49338750598881753\n",
      "Validation RMSE: 0.49308401640992805\n",
      "\n",
      "High Gen Model\n",
      "Training RMSE: 0.4917101180253689\n",
      "Validation RMSE: 0.49546313842886863\n",
      "\n"
     ]
    }
   ],
   "source": [
    "print(\"No Gen Model\\nTraining RMSE: {}\\nValidation RMSE: {}\\n\".format(training_error3, validation_error3))\n",
    "\n",
    "print(\"Low Gen Model\\nTraining RMSE: {}\\nValidation RMSE: {}\\n\".format(training_error, validation_error))\n",
    "\n",
    "print(\"High Gen Model\\nTraining RMSE: {}\\nValidation RMSE: {}\\n\".format(training_error2, validation_error2))\n"
   ]
  },
  {
   "cell_type": "code",
   "execution_count": null,
   "id": "39a7e944",
   "metadata": {},
   "outputs": [],
   "source": []
  }
 ],
 "metadata": {
  "kernelspec": {
   "display_name": "Python 3 (ipykernel)",
   "language": "python",
   "name": "python3"
  },
  "language_info": {
   "codemirror_mode": {
    "name": "ipython",
    "version": 3
   },
   "file_extension": ".py",
   "mimetype": "text/x-python",
   "name": "python",
   "nbconvert_exporter": "python",
   "pygments_lexer": "ipython3",
   "version": "3.10.6"
  }
 },
 "nbformat": 4,
 "nbformat_minor": 5
}
