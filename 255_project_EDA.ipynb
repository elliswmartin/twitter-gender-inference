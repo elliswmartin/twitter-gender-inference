{
 "cells": [
  {
   "cell_type": "code",
   "execution_count": 2,
   "id": "256e9a4e",
   "metadata": {},
   "outputs": [],
   "source": [
    "import pandas as pd\n",
    "import numpy as np\n",
    "import matplotlib\n",
    "import matplotlib.pyplot as plt\n",
    "import seaborn as sns\n",
    "\n",
    "# import data into dataframe\n",
    "raw_data = pd.read_csv('gender-classifier-DFE-791531.csv', encoding='ISO-8859-1')\n",
    "\n",
    "# rename column for greater simplicity\n",
    "raw_data.rename({'_unit_id':'unit_id'}, axis=1, inplace=True)\n",
    "\n",
    "# replace unit_id as index \n",
    "raw_data.set_index('unit_id', inplace=True)\n",
    "\n",
    "# store original record count for later\n",
    "orig_count = raw_data.shape[0]"
   ]
  },
  {
   "cell_type": "markdown",
   "id": "e145f83a",
   "metadata": {},
   "source": [
    "# Initial Data"
   ]
  },
  {
   "cell_type": "code",
   "execution_count": 3,
   "id": "5f563ed7",
   "metadata": {
    "scrolled": true
   },
   "outputs": [
    {
     "data": {
      "text/html": [
       "<div>\n",
       "<style scoped>\n",
       "    .dataframe tbody tr th:only-of-type {\n",
       "        vertical-align: middle;\n",
       "    }\n",
       "\n",
       "    .dataframe tbody tr th {\n",
       "        vertical-align: top;\n",
       "    }\n",
       "\n",
       "    .dataframe thead th {\n",
       "        text-align: right;\n",
       "    }\n",
       "</style>\n",
       "<table border=\"1\" class=\"dataframe\">\n",
       "  <thead>\n",
       "    <tr style=\"text-align: right;\">\n",
       "      <th></th>\n",
       "      <th>_golden</th>\n",
       "      <th>_unit_state</th>\n",
       "      <th>_trusted_judgments</th>\n",
       "      <th>_last_judgment_at</th>\n",
       "      <th>gender</th>\n",
       "      <th>gender:confidence</th>\n",
       "      <th>profile_yn</th>\n",
       "      <th>profile_yn:confidence</th>\n",
       "      <th>created</th>\n",
       "      <th>description</th>\n",
       "      <th>...</th>\n",
       "      <th>profileimage</th>\n",
       "      <th>retweet_count</th>\n",
       "      <th>sidebar_color</th>\n",
       "      <th>text</th>\n",
       "      <th>tweet_coord</th>\n",
       "      <th>tweet_count</th>\n",
       "      <th>tweet_created</th>\n",
       "      <th>tweet_id</th>\n",
       "      <th>tweet_location</th>\n",
       "      <th>user_timezone</th>\n",
       "    </tr>\n",
       "    <tr>\n",
       "      <th>unit_id</th>\n",
       "      <th></th>\n",
       "      <th></th>\n",
       "      <th></th>\n",
       "      <th></th>\n",
       "      <th></th>\n",
       "      <th></th>\n",
       "      <th></th>\n",
       "      <th></th>\n",
       "      <th></th>\n",
       "      <th></th>\n",
       "      <th></th>\n",
       "      <th></th>\n",
       "      <th></th>\n",
       "      <th></th>\n",
       "      <th></th>\n",
       "      <th></th>\n",
       "      <th></th>\n",
       "      <th></th>\n",
       "      <th></th>\n",
       "      <th></th>\n",
       "      <th></th>\n",
       "    </tr>\n",
       "  </thead>\n",
       "  <tbody>\n",
       "    <tr>\n",
       "      <th>815719226</th>\n",
       "      <td>False</td>\n",
       "      <td>finalized</td>\n",
       "      <td>3</td>\n",
       "      <td>10/26/15 23:24</td>\n",
       "      <td>male</td>\n",
       "      <td>1.0000</td>\n",
       "      <td>yes</td>\n",
       "      <td>1.0</td>\n",
       "      <td>12/5/13 1:48</td>\n",
       "      <td>i sing my own rhythm.</td>\n",
       "      <td>...</td>\n",
       "      <td>https://pbs.twimg.com/profile_images/414342229...</td>\n",
       "      <td>0</td>\n",
       "      <td>FFFFFF</td>\n",
       "      <td>Robbie E Responds To Critics After Win Against...</td>\n",
       "      <td>NaN</td>\n",
       "      <td>110964</td>\n",
       "      <td>10/26/15 12:40</td>\n",
       "      <td>6.587300e+17</td>\n",
       "      <td>main; @Kan1shk3</td>\n",
       "      <td>Chennai</td>\n",
       "    </tr>\n",
       "    <tr>\n",
       "      <th>815719227</th>\n",
       "      <td>False</td>\n",
       "      <td>finalized</td>\n",
       "      <td>3</td>\n",
       "      <td>10/26/15 23:30</td>\n",
       "      <td>male</td>\n",
       "      <td>1.0000</td>\n",
       "      <td>yes</td>\n",
       "      <td>1.0</td>\n",
       "      <td>10/1/12 13:51</td>\n",
       "      <td>I'm the author of novels filled with family dr...</td>\n",
       "      <td>...</td>\n",
       "      <td>https://pbs.twimg.com/profile_images/539604221...</td>\n",
       "      <td>0</td>\n",
       "      <td>C0DEED</td>\n",
       "      <td>ÛÏIt felt like they were my friends and I was...</td>\n",
       "      <td>NaN</td>\n",
       "      <td>7471</td>\n",
       "      <td>10/26/15 12:40</td>\n",
       "      <td>6.587300e+17</td>\n",
       "      <td>NaN</td>\n",
       "      <td>Eastern Time (US &amp; Canada)</td>\n",
       "    </tr>\n",
       "    <tr>\n",
       "      <th>815719228</th>\n",
       "      <td>False</td>\n",
       "      <td>finalized</td>\n",
       "      <td>3</td>\n",
       "      <td>10/26/15 23:33</td>\n",
       "      <td>male</td>\n",
       "      <td>0.6625</td>\n",
       "      <td>yes</td>\n",
       "      <td>1.0</td>\n",
       "      <td>11/28/14 11:30</td>\n",
       "      <td>louis whining and squealing and all</td>\n",
       "      <td>...</td>\n",
       "      <td>https://pbs.twimg.com/profile_images/657330418...</td>\n",
       "      <td>1</td>\n",
       "      <td>C0DEED</td>\n",
       "      <td>i absolutely adore when louis starts the songs...</td>\n",
       "      <td>NaN</td>\n",
       "      <td>5617</td>\n",
       "      <td>10/26/15 12:40</td>\n",
       "      <td>6.587300e+17</td>\n",
       "      <td>clcncl</td>\n",
       "      <td>Belgrade</td>\n",
       "    </tr>\n",
       "    <tr>\n",
       "      <th>815719229</th>\n",
       "      <td>False</td>\n",
       "      <td>finalized</td>\n",
       "      <td>3</td>\n",
       "      <td>10/26/15 23:10</td>\n",
       "      <td>male</td>\n",
       "      <td>1.0000</td>\n",
       "      <td>yes</td>\n",
       "      <td>1.0</td>\n",
       "      <td>6/11/09 22:39</td>\n",
       "      <td>Mobile guy.  49ers, Shazam, Google, Kleiner Pe...</td>\n",
       "      <td>...</td>\n",
       "      <td>https://pbs.twimg.com/profile_images/259703936...</td>\n",
       "      <td>0</td>\n",
       "      <td>C0DEED</td>\n",
       "      <td>Hi @JordanSpieth - Looking at the url - do you...</td>\n",
       "      <td>NaN</td>\n",
       "      <td>1693</td>\n",
       "      <td>10/26/15 12:40</td>\n",
       "      <td>6.587300e+17</td>\n",
       "      <td>Palo Alto, CA</td>\n",
       "      <td>Pacific Time (US &amp; Canada)</td>\n",
       "    </tr>\n",
       "    <tr>\n",
       "      <th>815719230</th>\n",
       "      <td>False</td>\n",
       "      <td>finalized</td>\n",
       "      <td>3</td>\n",
       "      <td>10/27/15 1:15</td>\n",
       "      <td>female</td>\n",
       "      <td>1.0000</td>\n",
       "      <td>yes</td>\n",
       "      <td>1.0</td>\n",
       "      <td>4/16/14 13:23</td>\n",
       "      <td>Ricky Wilson The Best FRONTMAN/Kaiser Chiefs T...</td>\n",
       "      <td>...</td>\n",
       "      <td>https://pbs.twimg.com/profile_images/564094871...</td>\n",
       "      <td>0</td>\n",
       "      <td>0</td>\n",
       "      <td>Watching Neighbours on Sky+ catching up with t...</td>\n",
       "      <td>NaN</td>\n",
       "      <td>31462</td>\n",
       "      <td>10/26/15 12:40</td>\n",
       "      <td>6.587300e+17</td>\n",
       "      <td>NaN</td>\n",
       "      <td>NaN</td>\n",
       "    </tr>\n",
       "  </tbody>\n",
       "</table>\n",
       "<p>5 rows × 25 columns</p>\n",
       "</div>"
      ],
      "text/plain": [
       "           _golden _unit_state  _trusted_judgments _last_judgment_at  gender  \\\n",
       "unit_id                                                                        \n",
       "815719226    False   finalized                   3    10/26/15 23:24    male   \n",
       "815719227    False   finalized                   3    10/26/15 23:30    male   \n",
       "815719228    False   finalized                   3    10/26/15 23:33    male   \n",
       "815719229    False   finalized                   3    10/26/15 23:10    male   \n",
       "815719230    False   finalized                   3     10/27/15 1:15  female   \n",
       "\n",
       "           gender:confidence profile_yn  profile_yn:confidence  \\\n",
       "unit_id                                                          \n",
       "815719226             1.0000        yes                    1.0   \n",
       "815719227             1.0000        yes                    1.0   \n",
       "815719228             0.6625        yes                    1.0   \n",
       "815719229             1.0000        yes                    1.0   \n",
       "815719230             1.0000        yes                    1.0   \n",
       "\n",
       "                  created                                        description  \\\n",
       "unit_id                                                                        \n",
       "815719226    12/5/13 1:48                              i sing my own rhythm.   \n",
       "815719227   10/1/12 13:51  I'm the author of novels filled with family dr...   \n",
       "815719228  11/28/14 11:30                louis whining and squealing and all   \n",
       "815719229   6/11/09 22:39  Mobile guy.  49ers, Shazam, Google, Kleiner Pe...   \n",
       "815719230   4/16/14 13:23  Ricky Wilson The Best FRONTMAN/Kaiser Chiefs T...   \n",
       "\n",
       "           ...                                       profileimage  \\\n",
       "unit_id    ...                                                      \n",
       "815719226  ...  https://pbs.twimg.com/profile_images/414342229...   \n",
       "815719227  ...  https://pbs.twimg.com/profile_images/539604221...   \n",
       "815719228  ...  https://pbs.twimg.com/profile_images/657330418...   \n",
       "815719229  ...  https://pbs.twimg.com/profile_images/259703936...   \n",
       "815719230  ...  https://pbs.twimg.com/profile_images/564094871...   \n",
       "\n",
       "          retweet_count sidebar_color  \\\n",
       "unit_id                                 \n",
       "815719226             0        FFFFFF   \n",
       "815719227             0        C0DEED   \n",
       "815719228             1        C0DEED   \n",
       "815719229             0        C0DEED   \n",
       "815719230             0             0   \n",
       "\n",
       "                                                        text tweet_coord  \\\n",
       "unit_id                                                                    \n",
       "815719226  Robbie E Responds To Critics After Win Against...         NaN   \n",
       "815719227  ÛÏIt felt like they were my friends and I was...         NaN   \n",
       "815719228  i absolutely adore when louis starts the songs...         NaN   \n",
       "815719229  Hi @JordanSpieth - Looking at the url - do you...         NaN   \n",
       "815719230  Watching Neighbours on Sky+ catching up with t...         NaN   \n",
       "\n",
       "          tweet_count   tweet_created      tweet_id   tweet_location  \\\n",
       "unit_id                                                                \n",
       "815719226      110964  10/26/15 12:40  6.587300e+17  main; @Kan1shk3   \n",
       "815719227        7471  10/26/15 12:40  6.587300e+17              NaN   \n",
       "815719228        5617  10/26/15 12:40  6.587300e+17           clcncl   \n",
       "815719229        1693  10/26/15 12:40  6.587300e+17    Palo Alto, CA   \n",
       "815719230       31462  10/26/15 12:40  6.587300e+17              NaN   \n",
       "\n",
       "                        user_timezone  \n",
       "unit_id                                \n",
       "815719226                     Chennai  \n",
       "815719227  Eastern Time (US & Canada)  \n",
       "815719228                    Belgrade  \n",
       "815719229  Pacific Time (US & Canada)  \n",
       "815719230                         NaN  \n",
       "\n",
       "[5 rows x 25 columns]"
      ]
     },
     "execution_count": 3,
     "metadata": {},
     "output_type": "execute_result"
    }
   ],
   "source": [
    "raw_data.head()"
   ]
  },
  {
   "cell_type": "code",
   "execution_count": 4,
   "id": "12792f7c",
   "metadata": {
    "scrolled": true
   },
   "outputs": [
    {
     "data": {
      "image/png": "[encoded data removed]",
      "text/plain": [
       "<Figure size 360x360 with 1 Axes>"
      ]
     },
     "metadata": {
      "needs_background": "light"
     },
     "output_type": "display_data"
    }
   ],
   "source": [
    "# distribution of values for gender\n",
    "\n",
    "sns.displot(data=raw_data, x='gender').set(title='Original gender markers and counts');"
   ]
  },
  {
   "cell_type": "markdown",
   "id": "adc3a31c",
   "metadata": {},
   "source": [
    "# Cleaning the Data"
   ]
  },
  {
   "cell_type": "code",
   "execution_count": 5,
   "id": "451f9849",
   "metadata": {},
   "outputs": [],
   "source": [
    "# make gen_data df \n",
    "# drop records that have 'unknown', 'brand', and nan values for gender\n",
    "\n",
    "gen_data = raw_data[raw_data['gender']!= 'unknown']\n",
    "gen_data = gen_data[gen_data['gender']!= 'brand']\n",
    "gen_data = gen_data[gen_data['gender'].notna()]"
   ]
  },
  {
   "cell_type": "markdown",
   "id": "00363118",
   "metadata": {},
   "source": [
    "## New DataFrame with only Female and Male gender markers"
   ]
  },
  {
   "cell_type": "code",
   "execution_count": 6,
   "id": "9f694679",
   "metadata": {
    "scrolled": true
   },
   "outputs": [
    {
     "data": {
      "text/html": [
       "<div>\n",
       "<style scoped>\n",
       "    .dataframe tbody tr th:only-of-type {\n",
       "        vertical-align: middle;\n",
       "    }\n",
       "\n",
       "    .dataframe tbody tr th {\n",
       "        vertical-align: top;\n",
       "    }\n",
       "\n",
       "    .dataframe thead th {\n",
       "        text-align: right;\n",
       "    }\n",
       "</style>\n",
       "<table border=\"1\" class=\"dataframe\">\n",
       "  <thead>\n",
       "    <tr style=\"text-align: right;\">\n",
       "      <th></th>\n",
       "      <th>_golden</th>\n",
       "      <th>_unit_state</th>\n",
       "      <th>_trusted_judgments</th>\n",
       "      <th>_last_judgment_at</th>\n",
       "      <th>gender</th>\n",
       "      <th>gender:confidence</th>\n",
       "      <th>profile_yn</th>\n",
       "      <th>profile_yn:confidence</th>\n",
       "      <th>created</th>\n",
       "      <th>description</th>\n",
       "      <th>...</th>\n",
       "      <th>profileimage</th>\n",
       "      <th>retweet_count</th>\n",
       "      <th>sidebar_color</th>\n",
       "      <th>text</th>\n",
       "      <th>tweet_coord</th>\n",
       "      <th>tweet_count</th>\n",
       "      <th>tweet_created</th>\n",
       "      <th>tweet_id</th>\n",
       "      <th>tweet_location</th>\n",
       "      <th>user_timezone</th>\n",
       "    </tr>\n",
       "    <tr>\n",
       "      <th>unit_id</th>\n",
       "      <th></th>\n",
       "      <th></th>\n",
       "      <th></th>\n",
       "      <th></th>\n",
       "      <th></th>\n",
       "      <th></th>\n",
       "      <th></th>\n",
       "      <th></th>\n",
       "      <th></th>\n",
       "      <th></th>\n",
       "      <th></th>\n",
       "      <th></th>\n",
       "      <th></th>\n",
       "      <th></th>\n",
       "      <th></th>\n",
       "      <th></th>\n",
       "      <th></th>\n",
       "      <th></th>\n",
       "      <th></th>\n",
       "      <th></th>\n",
       "      <th></th>\n",
       "    </tr>\n",
       "  </thead>\n",
       "  <tbody>\n",
       "    <tr>\n",
       "      <th>815719226</th>\n",
       "      <td>False</td>\n",
       "      <td>finalized</td>\n",
       "      <td>3</td>\n",
       "      <td>10/26/15 23:24</td>\n",
       "      <td>male</td>\n",
       "      <td>1.0000</td>\n",
       "      <td>yes</td>\n",
       "      <td>1.0</td>\n",
       "      <td>12/5/13 1:48</td>\n",
       "      <td>i sing my own rhythm.</td>\n",
       "      <td>...</td>\n",
       "      <td>https://pbs.twimg.com/profile_images/414342229...</td>\n",
       "      <td>0</td>\n",
       "      <td>FFFFFF</td>\n",
       "      <td>Robbie E Responds To Critics After Win Against...</td>\n",
       "      <td>NaN</td>\n",
       "      <td>110964</td>\n",
       "      <td>10/26/15 12:40</td>\n",
       "      <td>6.587300e+17</td>\n",
       "      <td>main; @Kan1shk3</td>\n",
       "      <td>Chennai</td>\n",
       "    </tr>\n",
       "    <tr>\n",
       "      <th>815719227</th>\n",
       "      <td>False</td>\n",
       "      <td>finalized</td>\n",
       "      <td>3</td>\n",
       "      <td>10/26/15 23:30</td>\n",
       "      <td>male</td>\n",
       "      <td>1.0000</td>\n",
       "      <td>yes</td>\n",
       "      <td>1.0</td>\n",
       "      <td>10/1/12 13:51</td>\n",
       "      <td>I'm the author of novels filled with family dr...</td>\n",
       "      <td>...</td>\n",
       "      <td>https://pbs.twimg.com/profile_images/539604221...</td>\n",
       "      <td>0</td>\n",
       "      <td>C0DEED</td>\n",
       "      <td>ÛÏIt felt like they were my friends and I was...</td>\n",
       "      <td>NaN</td>\n",
       "      <td>7471</td>\n",
       "      <td>10/26/15 12:40</td>\n",
       "      <td>6.587300e+17</td>\n",
       "      <td>NaN</td>\n",
       "      <td>Eastern Time (US &amp; Canada)</td>\n",
       "    </tr>\n",
       "    <tr>\n",
       "      <th>815719228</th>\n",
       "      <td>False</td>\n",
       "      <td>finalized</td>\n",
       "      <td>3</td>\n",
       "      <td>10/26/15 23:33</td>\n",
       "      <td>male</td>\n",
       "      <td>0.6625</td>\n",
       "      <td>yes</td>\n",
       "      <td>1.0</td>\n",
       "      <td>11/28/14 11:30</td>\n",
       "      <td>louis whining and squealing and all</td>\n",
       "      <td>...</td>\n",
       "      <td>https://pbs.twimg.com/profile_images/657330418...</td>\n",
       "      <td>1</td>\n",
       "      <td>C0DEED</td>\n",
       "      <td>i absolutely adore when louis starts the songs...</td>\n",
       "      <td>NaN</td>\n",
       "      <td>5617</td>\n",
       "      <td>10/26/15 12:40</td>\n",
       "      <td>6.587300e+17</td>\n",
       "      <td>clcncl</td>\n",
       "      <td>Belgrade</td>\n",
       "    </tr>\n",
       "    <tr>\n",
       "      <th>815719229</th>\n",
       "      <td>False</td>\n",
       "      <td>finalized</td>\n",
       "      <td>3</td>\n",
       "      <td>10/26/15 23:10</td>\n",
       "      <td>male</td>\n",
       "      <td>1.0000</td>\n",
       "      <td>yes</td>\n",
       "      <td>1.0</td>\n",
       "      <td>6/11/09 22:39</td>\n",
       "      <td>Mobile guy.  49ers, Shazam, Google, Kleiner Pe...</td>\n",
       "      <td>...</td>\n",
       "      <td>https://pbs.twimg.com/profile_images/259703936...</td>\n",
       "      <td>0</td>\n",
       "      <td>C0DEED</td>\n",
       "      <td>Hi @JordanSpieth - Looking at the url - do you...</td>\n",
       "      <td>NaN</td>\n",
       "      <td>1693</td>\n",
       "      <td>10/26/15 12:40</td>\n",
       "      <td>6.587300e+17</td>\n",
       "      <td>Palo Alto, CA</td>\n",
       "      <td>Pacific Time (US &amp; Canada)</td>\n",
       "    </tr>\n",
       "    <tr>\n",
       "      <th>815719230</th>\n",
       "      <td>False</td>\n",
       "      <td>finalized</td>\n",
       "      <td>3</td>\n",
       "      <td>10/27/15 1:15</td>\n",
       "      <td>female</td>\n",
       "      <td>1.0000</td>\n",
       "      <td>yes</td>\n",
       "      <td>1.0</td>\n",
       "      <td>4/16/14 13:23</td>\n",
       "      <td>Ricky Wilson The Best FRONTMAN/Kaiser Chiefs T...</td>\n",
       "      <td>...</td>\n",
       "      <td>https://pbs.twimg.com/profile_images/564094871...</td>\n",
       "      <td>0</td>\n",
       "      <td>0</td>\n",
       "      <td>Watching Neighbours on Sky+ catching up with t...</td>\n",
       "      <td>NaN</td>\n",
       "      <td>31462</td>\n",
       "      <td>10/26/15 12:40</td>\n",
       "      <td>6.587300e+17</td>\n",
       "      <td>NaN</td>\n",
       "      <td>NaN</td>\n",
       "    </tr>\n",
       "  </tbody>\n",
       "</table>\n",
       "<p>5 rows × 25 columns</p>\n",
       "</div>"
      ],
      "text/plain": [
       "           _golden _unit_state  _trusted_judgments _last_judgment_at  gender  \\\n",
       "unit_id                                                                        \n",
       "815719226    False   finalized                   3    10/26/15 23:24    male   \n",
       "815719227    False   finalized                   3    10/26/15 23:30    male   \n",
       "815719228    False   finalized                   3    10/26/15 23:33    male   \n",
       "815719229    False   finalized                   3    10/26/15 23:10    male   \n",
       "815719230    False   finalized                   3     10/27/15 1:15  female   \n",
       "\n",
       "           gender:confidence profile_yn  profile_yn:confidence  \\\n",
       "unit_id                                                          \n",
       "815719226             1.0000        yes                    1.0   \n",
       "815719227             1.0000        yes                    1.0   \n",
       "815719228             0.6625        yes                    1.0   \n",
       "815719229             1.0000        yes                    1.0   \n",
       "815719230             1.0000        yes                    1.0   \n",
       "\n",
       "                  created                                        description  \\\n",
       "unit_id                                                                        \n",
       "815719226    12/5/13 1:48                              i sing my own rhythm.   \n",
       "815719227   10/1/12 13:51  I'm the author of novels filled with family dr...   \n",
       "815719228  11/28/14 11:30                louis whining and squealing and all   \n",
       "815719229   6/11/09 22:39  Mobile guy.  49ers, Shazam, Google, Kleiner Pe...   \n",
       "815719230   4/16/14 13:23  Ricky Wilson The Best FRONTMAN/Kaiser Chiefs T...   \n",
       "\n",
       "           ...                                       profileimage  \\\n",
       "unit_id    ...                                                      \n",
       "815719226  ...  https://pbs.twimg.com/profile_images/414342229...   \n",
       "815719227  ...  https://pbs.twimg.com/profile_images/539604221...   \n",
       "815719228  ...  https://pbs.twimg.com/profile_images/657330418...   \n",
       "815719229  ...  https://pbs.twimg.com/profile_images/259703936...   \n",
       "815719230  ...  https://pbs.twimg.com/profile_images/564094871...   \n",
       "\n",
       "          retweet_count sidebar_color  \\\n",
       "unit_id                                 \n",
       "815719226             0        FFFFFF   \n",
       "815719227             0        C0DEED   \n",
       "815719228             1        C0DEED   \n",
       "815719229             0        C0DEED   \n",
       "815719230             0             0   \n",
       "\n",
       "                                                        text tweet_coord  \\\n",
       "unit_id                                                                    \n",
       "815719226  Robbie E Responds To Critics After Win Against...         NaN   \n",
       "815719227  ÛÏIt felt like they were my friends and I was...         NaN   \n",
       "815719228  i absolutely adore when louis starts the songs...         NaN   \n",
       "815719229  Hi @JordanSpieth - Looking at the url - do you...         NaN   \n",
       "815719230  Watching Neighbours on Sky+ catching up with t...         NaN   \n",
       "\n",
       "          tweet_count   tweet_created      tweet_id   tweet_location  \\\n",
       "unit_id                                                                \n",
       "815719226      110964  10/26/15 12:40  6.587300e+17  main; @Kan1shk3   \n",
       "815719227        7471  10/26/15 12:40  6.587300e+17              NaN   \n",
       "815719228        5617  10/26/15 12:40  6.587300e+17           clcncl   \n",
       "815719229        1693  10/26/15 12:40  6.587300e+17    Palo Alto, CA   \n",
       "815719230       31462  10/26/15 12:40  6.587300e+17              NaN   \n",
       "\n",
       "                        user_timezone  \n",
       "unit_id                                \n",
       "815719226                     Chennai  \n",
       "815719227  Eastern Time (US & Canada)  \n",
       "815719228                    Belgrade  \n",
       "815719229  Pacific Time (US & Canada)  \n",
       "815719230                         NaN  \n",
       "\n",
       "[5 rows x 25 columns]"
      ]
     },
     "execution_count": 6,
     "metadata": {},
     "output_type": "execute_result"
    }
   ],
   "source": [
    "gen_data.head()"
   ]
  },
  {
   "cell_type": "markdown",
   "id": "534961b3",
   "metadata": {},
   "source": [
    "## Number of records before and after cleaning"
   ]
  },
  {
   "cell_type": "code",
   "execution_count": 7,
   "id": "5839b1a4",
   "metadata": {
    "scrolled": true
   },
   "outputs": [
    {
     "name": "stdout",
     "output_type": "stream",
     "text": [
      "Initial number of records: 20050\n",
      "New number of records (only 'male' and 'female' gender markers): 12894\n"
     ]
    }
   ],
   "source": [
    "print(f\"Initial number of records: {orig_count}\")\n",
    "print(f\"New number of records (only 'male' and 'female' gender markers): {gen_data['gender'].count()}\")"
   ]
  },
  {
   "cell_type": "markdown",
   "id": "097cba3d",
   "metadata": {},
   "source": [
    "## Confirm we can index on unit_id (unique value for each row)"
   ]
  },
  {
   "cell_type": "code",
   "execution_count": 8,
   "id": "661e9366",
   "metadata": {},
   "outputs": [
    {
     "data": {
      "text/plain": [
       "True"
      ]
     },
     "execution_count": 8,
     "metadata": {},
     "output_type": "execute_result"
    }
   ],
   "source": [
    "indx = gen_data.index\n",
    "indx.is_unique"
   ]
  },
  {
   "cell_type": "markdown",
   "id": "e4701691",
   "metadata": {},
   "source": [
    "## Identify unique values per column"
   ]
  },
  {
   "cell_type": "code",
   "execution_count": 9,
   "id": "76d897bc",
   "metadata": {
    "scrolled": false
   },
   "outputs": [],
   "source": [
    "# determine if there are duplicate records that need to be dropped\n",
    "# make a list of column names\n",
    "col_lst = gen_data.columns.values.tolist()\n",
    "cnt_lst = []\n",
    "\n",
    "for col in col_lst:\n",
    "    cnt_lst.append(len(gen_data[col].unique()))\n",
    "\n",
    "# create df from these two lists\n",
    "eda_df = pd.DataFrame(list(zip(col_lst, cnt_lst)),columns=['col_names','unique_counts']).set_index(\"col_names\")"
   ]
  },
  {
   "cell_type": "markdown",
   "id": "241faba2",
   "metadata": {},
   "source": [
    "## Some of the fields we are interested and their corresponding number of unique values: "
   ]
  },
  {
   "cell_type": "code",
   "execution_count": 10,
   "id": "59062576",
   "metadata": {},
   "outputs": [
    {
     "data": {
      "text/html": [
       "<div>\n",
       "<style scoped>\n",
       "    .dataframe tbody tr th:only-of-type {\n",
       "        vertical-align: middle;\n",
       "    }\n",
       "\n",
       "    .dataframe tbody tr th {\n",
       "        vertical-align: top;\n",
       "    }\n",
       "\n",
       "    .dataframe thead th {\n",
       "        text-align: right;\n",
       "    }\n",
       "</style>\n",
       "<table border=\"1\" class=\"dataframe\">\n",
       "  <thead>\n",
       "    <tr style=\"text-align: right;\">\n",
       "      <th></th>\n",
       "      <th>unique_counts</th>\n",
       "    </tr>\n",
       "    <tr>\n",
       "      <th>col_names</th>\n",
       "      <th></th>\n",
       "    </tr>\n",
       "  </thead>\n",
       "  <tbody>\n",
       "    <tr>\n",
       "      <th>gender</th>\n",
       "      <td>2</td>\n",
       "    </tr>\n",
       "    <tr>\n",
       "      <th>gender:confidence</th>\n",
       "      <td>791</td>\n",
       "    </tr>\n",
       "    <tr>\n",
       "      <th>description</th>\n",
       "      <td>10658</td>\n",
       "    </tr>\n",
       "    <tr>\n",
       "      <th>name</th>\n",
       "      <td>12310</td>\n",
       "    </tr>\n",
       "    <tr>\n",
       "      <th>text</th>\n",
       "      <td>12724</td>\n",
       "    </tr>\n",
       "  </tbody>\n",
       "</table>\n",
       "</div>"
      ],
      "text/plain": [
       "                   unique_counts\n",
       "col_names                       \n",
       "gender                         2\n",
       "gender:confidence            791\n",
       "description                10658\n",
       "name                       12310\n",
       "text                       12724"
      ]
     },
     "execution_count": 10,
     "metadata": {},
     "output_type": "execute_result"
    }
   ],
   "source": [
    "eda_df.iloc[[4,5,9,13,18],:] # initial choices"
   ]
  },
  {
   "cell_type": "code",
   "execution_count": 11,
   "id": "5d27f310",
   "metadata": {},
   "outputs": [
    {
     "data": {
      "text/html": [
       "<div>\n",
       "<style scoped>\n",
       "    .dataframe tbody tr th:only-of-type {\n",
       "        vertical-align: middle;\n",
       "    }\n",
       "\n",
       "    .dataframe tbody tr th {\n",
       "        vertical-align: top;\n",
       "    }\n",
       "\n",
       "    .dataframe thead th {\n",
       "        text-align: right;\n",
       "    }\n",
       "</style>\n",
       "<table border=\"1\" class=\"dataframe\">\n",
       "  <thead>\n",
       "    <tr style=\"text-align: right;\">\n",
       "      <th></th>\n",
       "      <th>unique_counts</th>\n",
       "    </tr>\n",
       "    <tr>\n",
       "      <th>col_names</th>\n",
       "      <th></th>\n",
       "    </tr>\n",
       "  </thead>\n",
       "  <tbody>\n",
       "    <tr>\n",
       "      <th>created</th>\n",
       "      <td>12263</td>\n",
       "    </tr>\n",
       "    <tr>\n",
       "      <th>sidebar_color</th>\n",
       "      <td>419</td>\n",
       "    </tr>\n",
       "    <tr>\n",
       "      <th>tweet_count</th>\n",
       "      <td>9926</td>\n",
       "    </tr>\n",
       "    <tr>\n",
       "      <th>tweet_location</th>\n",
       "      <td>6067</td>\n",
       "    </tr>\n",
       "  </tbody>\n",
       "</table>\n",
       "</div>"
      ],
      "text/plain": [
       "                unique_counts\n",
       "col_names                    \n",
       "created                 12263\n",
       "sidebar_color             419\n",
       "tweet_count              9926\n",
       "tweet_location           6067"
      ]
     },
     "execution_count": 11,
     "metadata": {},
     "output_type": "execute_result"
    }
   ],
   "source": [
    "eda_df.iloc[[8,17,20,23],:] # possible additional analysis"
   ]
  },
  {
   "cell_type": "markdown",
   "id": "90c862f5",
   "metadata": {},
   "source": [
    "# Exploratory Data Analysis"
   ]
  },
  {
   "cell_type": "markdown",
   "id": "30ec497d",
   "metadata": {},
   "source": [
    "## Gender & Gender Confidence"
   ]
  },
  {
   "cell_type": "code",
   "execution_count": 12,
   "id": "fafced13",
   "metadata": {},
   "outputs": [
    {
     "data": {
      "image/png": "[encoded data removed]",
      "text/plain": [
       "<Figure size 360x360 with 1 Axes>"
      ]
     },
     "metadata": {
      "needs_background": "light"
     },
     "output_type": "display_data"
    }
   ],
   "source": [
    "sns.displot(data=gen_data, x='gender')\n",
    "plt.title(\"Counts of Male and Female gender markers\");"
   ]
  },
  {
   "cell_type": "markdown",
   "id": "dafae851",
   "metadata": {},
   "source": [
    "#### Relatively similar number of records with M & F gender markers."
   ]
  },
  {
   "cell_type": "code",
   "execution_count": 13,
   "id": "2408b4e1",
   "metadata": {},
   "outputs": [
    {
     "data": {
      "image/png": "[encoded data removed]",
      "text/plain": [
       "<Figure size 360x360 with 1 Axes>"
      ]
     },
     "metadata": {
      "needs_background": "light"
     },
     "output_type": "display_data"
    }
   ],
   "source": [
    "sns.displot(data=raw_data, x='gender:confidence')\n",
    "plt.title(\"What is 'gender:confidence' doing?\");"
   ]
  },
  {
   "cell_type": "markdown",
   "id": "9c8577fb",
   "metadata": {},
   "source": [
    "#### Confirmed as a confidence interval (0-1), and highest frequency is 1.0."
   ]
  },
  {
   "cell_type": "markdown",
   "id": "c62efc5c",
   "metadata": {},
   "source": [
    "## Name "
   ]
  },
  {
   "cell_type": "code",
   "execution_count": 14,
   "id": "d5195edc",
   "metadata": {},
   "outputs": [
    {
     "data": {
      "text/plain": [
       "unit_id\n",
       "815719226            sheezy0\n",
       "815719227        DavdBurnett\n",
       "815719228     lwtprettylaugh\n",
       "815719229        douggarland\n",
       "815719230       WilfordGemma\n",
       "815719231      monroevicious\n",
       "815719233         RobinMeske\n",
       "815719234          pigzilla_\n",
       "815719235      GabrieleNeher\n",
       "815719238     kaylanabrewer_\n",
       "815719240           cheyflan\n",
       "815719241          Ayu7sith4\n",
       "815719242       Toucaan_Samm\n",
       "815719243         SSmyth2010\n",
       "815719244    DarkToonsGaming\n",
       "815719246          jlpeter37\n",
       "815719247        SarahMaddry\n",
       "815719248           bethleia\n",
       "815719249        StrictlyAri\n",
       "815719250           JHurkett\n",
       "Name: name, dtype: object"
      ]
     },
     "execution_count": 14,
     "metadata": {},
     "output_type": "execute_result"
    }
   ],
   "source": [
    "gen_data[\"name\"].head(20)"
   ]
  },
  {
   "cell_type": "markdown",
   "id": "45d0743d",
   "metadata": {},
   "source": [
    "## Description"
   ]
  },
  {
   "cell_type": "code",
   "execution_count": 23,
   "id": "c15a427c",
   "metadata": {},
   "outputs": [
    {
     "data": {
      "text/plain": [
       "unit_id\n",
       "815719226                                                                                                                                               i sing my own rhythm.\n",
       "815719227                                                                                                      I'm the author of novels filled with family drama and romance.\n",
       "815719228                                                                                                                                 louis whining and squealing and all\n",
       "815719229                  Mobile guy.  49ers, Shazam, Google, Kleiner Perkins, Yahoo!, Sprint PCS, AirTouch, Air Force.  Stanford GSB, UVa.  Dad, Husband, Brother.  Golfer.\n",
       "815719230    Ricky Wilson The Best FRONTMAN/Kaiser Chiefs The Best BAND Xxxx Thank you Kaiser Chiefs for an incredible year of gigs and memories to cherish always :) Xxxxxxx\n",
       "815719231                                                                                                                                                  you don't know me.\n",
       "815719233                                                                                                                     The secret of getting ahead is getting started.\n",
       "815719234                                                                                                                          Pll Fan // Crazy about MCD // Ramen is bae\n",
       "815719235     Renaissance art historian, University of Nottingham; fuelled by Haribo, partial to coffee and with a soft spot for Renaissance China. National Teaching Fellow.\n",
       "815719238                                                                                                                                          Senior '16 . XI-XII-MMXIV.\n",
       "815719240                                                                                                                im just here for tÌüp, bo burnham, and disney world.\n",
       "815719241                                                                                                                                                                 NaN\n",
       "815719242                                                                                                                                                          JMKM_Òü\n",
       "815719243                                                                       Over enthusiastic F1 fan.  Model collector, music fan and a film fanatic.  Also an Aspergian.\n",
       "815719244                                                                                                                                                                 NaN\n",
       "815719246                           Artisan specializing in paper mache, print-making and fibre art.  Art teacher and cat devotee. Find my page on FB https://t.co/G7bSTG9ICv\n",
       "815719247                                                                                                                           He bled and died to take away my sins ÛÊ\n",
       "815719248                                                                                                                                                        union j xxxx\n",
       "815719249                                                                                                                                           You had me from the start\n",
       "815719250                                                                                                                                       BSc economics graduate  #COYS\n",
       "Name: description, dtype: object"
      ]
     },
     "execution_count": 23,
     "metadata": {},
     "output_type": "execute_result"
    }
   ],
   "source": [
    "pd.options.display.max_colwidth = 200 # adjust view to see complete text\n",
    "gen_data[\"description\"].head(20)"
   ]
  },
  {
   "cell_type": "markdown",
   "id": "10b5045f",
   "metadata": {},
   "source": [
    "## Text"
   ]
  },
  {
   "cell_type": "code",
   "execution_count": 24,
   "id": "b68a3379",
   "metadata": {},
   "outputs": [
    {
     "data": {
      "text/plain": [
       "unit_id\n",
       "815719226                                  Robbie E Responds To Critics After Win Against Eddie Edwards In The #WorldTitleSeries https://t.co/NSybBmVjKZ\n",
       "815719227    ÛÏIt felt like they were my friends and I was living the story with themÛ https://t.co/arngE0YHNO #retired #IAN1 https://t.co/CIzCANPQFz\n",
       "815719228                                                               i absolutely adore when louis starts the songs it hits me hard but it feels good\n",
       "815719229     Hi @JordanSpieth - Looking at the url - do you use @IFTTT?!  Don't typically see an advanced user on the @PGATOUR! https://t.co/H68ou5PE9L\n",
       "815719230                                                Watching Neighbours on Sky+ catching up with the Neighbs!! Xxx _Ù÷Ä_Ù÷Ä_Ù÷Ä_ÙÔÎ_ÙÈ_ÙÔ_ÙÈ Xxx\n",
       "815719231                                                              Ive seen people on the train with lamps, chairs, tvs etc  https://t.co/w6zf4pVM4I\n",
       "815719233       Gala Bingo clubs bought for å£241m: The UK's largest High Street bingo operator, Gala, is being taken over byÛ_ https://t.co/HzeeykJUd3\n",
       "815719234                                                                         @_Aphmau_ the pic defines all mcd fangirls/fanboys and mcd shippers xD\n",
       "815719235                                             @Evielady just how lovely is the tree this year! Never seen it as gorgeous as this #Autumn #colour\n",
       "815719238                                                                              Just put my ass on the line for you and this is how you repay me.\n",
       "815719240                                                                                        will i even need sound effects for the diviners tonight\n",
       "815719241                                                        https://t.co/EROGWTFTYo It's a glow of satisfaction re The Glow https://t.co/7RdyMCVPKx\n",
       "815719242                                                  @giannaaa28 lmao _Ù÷â_Ù÷â dude I'm hella scared for next episode bc the ending to yesterday's\n",
       "815719243                           @coolyazzy94 Ditto - I'm still learning the favourites and retweet stuff - least it sucks less than Facebook haha :P\n",
       "815719244                                                           @CaribBros @JstSaleem I do but I don't understand how to get to the server to get it\n",
       "815719246                                                                                       @CraftYear2015 @isabelpascual thank you for the retweets\n",
       "815719247                                                          All the girls went to sleep and the guys just sat in the floor and watched us_Ù÷â_Ù÷â\n",
       "815719248                                                                                         @ChrisAOfficial I'm on the right side_Ù÷âÏÎ_Ù_üxxx\n",
       "815719249                                                 YALL LMFAOO RIGHT WHEN THE CHORUS CAME ON, A TEAR ROLLED DOWN HIS FACE https://t.co/aYuQDPtvsE\n",
       "815719250                       James Bond premier night at the @Everymancinema in Oxted with @SidiEdey. Let's hope it lives up to expectation! #SPECTRE\n",
       "Name: text, dtype: object"
      ]
     },
     "execution_count": 24,
     "metadata": {},
     "output_type": "execute_result"
    }
   ],
   "source": [
    "gen_data[\"text\"].head(20)\n"
   ]
  },
  {
   "cell_type": "code",
   "execution_count": null,
   "id": "de01313d",
   "metadata": {},
   "outputs": [],
   "source": []
  }
 ],
 "metadata": {
  "kernelspec": {
   "display_name": "Python 3",
   "language": "python",
   "name": "python3"
  },
  "language_info": {
   "codemirror_mode": {
    "name": "ipython",
    "version": 3
   },
   "file_extension": ".py",
   "mimetype": "text/x-python",
   "name": "python",
   "nbconvert_exporter": "python",
   "pygments_lexer": "ipython3",
   "version": "3.10.6"
  },
  "vscode": {
   "interpreter": {
    "hash": "aee8b7b246df8f9039afb4144a1f6fd8d2ca17a180786b69acc140d282b71a49"
   }
  }
 },
 "nbformat": 4,
 "nbformat_minor": 5
}
